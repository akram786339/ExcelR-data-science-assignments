{
 "cells": [
  {
   "cell_type": "code",
   "execution_count": 1,
   "id": "cce87552-3cbb-492e-b411-fba691b5aaab",
   "metadata": {},
   "outputs": [],
   "source": [
    "from scipy import stats\n",
    "import pandas as pd\n",
    "import numpy as np"
   ]
  },
  {
   "cell_type": "code",
   "execution_count": 2,
   "id": "6bf4651d-4d81-4a43-b8b0-8ef2c2633e9f",
   "metadata": {},
   "outputs": [],
   "source": [
    "Data = [1.13, 1.55, 1.43, 0.92, 1.25, 1.36, 1.32, 0.85, 1.07, 1.48, 1.20, 1.33, 1.18, 1.22, 1.29]"
   ]
  },
  {
   "cell_type": "code",
   "execution_count": 3,
   "id": "09ead9b9-a14f-4c45-ba10-ed4f773ab543",
   "metadata": {},
   "outputs": [],
   "source": [
    "sample_mean = np.mean(Data)\n",
    "sample_size = len(Data)\n",
    "sample_sd = np.std(Data)"
   ]
  },
  {
   "cell_type": "code",
   "execution_count": 4,
   "id": "a5165983-0e8d-4dc9-868e-7881be2fdcc1",
   "metadata": {},
   "outputs": [
    {
     "data": {
      "text/plain": [
       "1.2386666666666666"
      ]
     },
     "execution_count": 4,
     "metadata": {},
     "output_type": "execute_result"
    }
   ],
   "source": [
    "sample_mean"
   ]
  },
  {
   "cell_type": "code",
   "execution_count": 5,
   "id": "abfe0a33-81d7-44f0-b604-80807c2a0b92",
   "metadata": {},
   "outputs": [
    {
     "data": {
      "text/plain": [
       "15"
      ]
     },
     "execution_count": 5,
     "metadata": {},
     "output_type": "execute_result"
    }
   ],
   "source": [
    "sample_size"
   ]
  },
  {
   "cell_type": "code",
   "execution_count": 6,
   "id": "84a08c1b-be1b-403d-b239-0d056657f128",
   "metadata": {},
   "outputs": [
    {
     "data": {
      "text/plain": [
       "0.18661427836285438"
      ]
     },
     "execution_count": 6,
     "metadata": {},
     "output_type": "execute_result"
    }
   ],
   "source": [
    "sample_sd"
   ]
  },
  {
   "cell_type": "code",
   "execution_count": 7,
   "id": "90058aa8-dd5c-46a8-b66e-bd3b18ece20a",
   "metadata": {},
   "outputs": [
    {
     "data": {
      "text/plain": [
       "(1.1145539391646546, 1.3627793941686785)"
      ]
     },
     "execution_count": 7,
     "metadata": {},
     "output_type": "execute_result"
    }
   ],
   "source": [
    "stats.norm.interval(0.99,sample_mean,sample_sd/np.sqrt(sample_size))"
   ]
  },
  {
   "cell_type": "code",
   "execution_count": 8,
   "id": "895941ea-505c-49e8-aacf-810a9db5102d",
   "metadata": {},
   "outputs": [
    {
     "data": {
      "text/plain": [
       "(159.8112990490984, 170.1887009509016)"
      ]
     },
     "execution_count": 8,
     "metadata": {},
     "output_type": "execute_result"
    }
   ],
   "source": [
    "stats.t.interval(0.95, df = 49, loc = 165, scale = (10/np.sqrt(15)))"
   ]
  },
  {
   "cell_type": "code",
   "execution_count": 18,
   "id": "ba3c88a8-1a0f-46b8-b188-171cab9ed27e",
   "metadata": {},
   "outputs": [
    {
     "data": {
      "text/plain": [
       "(1.1145539324998863, 1.3627793875001137)"
      ]
     },
     "execution_count": 18,
     "metadata": {},
     "output_type": "execute_result"
    }
   ],
   "source": [
    "#Z method\n",
    "\n",
    "stats.norm.interval(0.99,1.23866666,0.18661427836/np.sqrt(15))"
   ]
  },
  {
   "cell_type": "code",
   "execution_count": null,
   "id": "b593f19b-4f14-4c15-b2d0-469d8be756a3",
   "metadata": {},
   "outputs": [],
   "source": []
  }
 ],
 "metadata": {
  "kernelspec": {
   "display_name": "Python 3 (ipykernel)",
   "language": "python",
   "name": "python3"
  },
  "language_info": {
   "codemirror_mode": {
    "name": "ipython",
    "version": 3
   },
   "file_extension": ".py",
   "mimetype": "text/x-python",
   "name": "python",
   "nbconvert_exporter": "python",
   "pygments_lexer": "ipython3",
   "version": "3.12.7"
  }
 },
 "nbformat": 4,
 "nbformat_minor": 5
}
