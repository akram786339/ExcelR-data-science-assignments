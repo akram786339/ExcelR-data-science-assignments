{
 "cells": [
  {
   "cell_type": "markdown",
   "id": "a854ac07-b0e3-4908-96c4-03b5e9be4462",
   "metadata": {},
   "source": [
    "# Prime Numbers"
   ]
  },
  {
   "cell_type": "code",
   "execution_count": 3,
   "id": "dd324f27-90ec-4dee-a666-08aa0b492baa",
   "metadata": {},
   "outputs": [],
   "source": [
    "def is_prime(num):\n",
    "    if num <= 1:                                             # Prime numbers are greater than 1\n",
    "        return False\n",
    "    for i in range(2, int(num**0.5) + 1):                    # Check divisors up to the square root of the number\n",
    "        if num % i == 0:\n",
    "            return False\n",
    "    return True"
   ]
  },
  {
   "cell_type": "code",
   "execution_count": 7,
   "id": "a46e8472-bdf6-4031-9edb-976304a8482b",
   "metadata": {},
   "outputs": [
    {
     "name": "stdin",
     "output_type": "stream",
     "text": [
      "Enter a number 4\n"
     ]
    },
    {
     "name": "stdout",
     "output_type": "stream",
     "text": [
      "4 is not a prime number.\n"
     ]
    }
   ],
   "source": [
    "number = int(input(\"Enter a number\"))\n",
    "if is_prime(number):\n",
    "    print(f\"{number} is a prime number.\")\n",
    "else:\n",
    "    print(f\"{number} is not a prime number.\")"
   ]
  },
  {
   "cell_type": "code",
   "execution_count": 21,
   "id": "cf95aa1e-e5fa-4795-893a-909305030b22",
   "metadata": {},
   "outputs": [],
   "source": [
    "#Develop a Python program that generates two random numbers and asks the user to enter the product of these numbers.\n",
    "#The program should then check if the user's answer is correct and display an appropriate message."
   ]
  },
  {
   "cell_type": "code",
   "execution_count": 28,
   "id": "5049ba58-3da2-47b8-995b-19e7d24bd2c3",
   "metadata": {},
   "outputs": [],
   "source": [
    "import random"
   ]
  },
  {
   "cell_type": "code",
   "execution_count": 95,
   "id": "f9756ff2-89a3-4127-aec6-f45bf69e741e",
   "metadata": {},
   "outputs": [],
   "source": [
    "num1 = random.randint(1, 20)  # You can change the range as desired\n",
    "num2 = random.randint(5, 10)"
   ]
  },
  {
   "cell_type": "code",
   "execution_count": 97,
   "id": "1464c3e2-4de7-4b27-8811-32597cd58f8b",
   "metadata": {},
   "outputs": [],
   "source": [
    "product_of_numbers = num1 * num2"
   ]
  },
  {
   "cell_type": "code",
   "execution_count": 99,
   "id": "0ac043ff-bf90-42da-9e6b-1be1078ec95f",
   "metadata": {},
   "outputs": [
    {
     "name": "stdout",
     "output_type": "stream",
     "text": [
      "What is the product of 15 and 7?\n"
     ]
    },
    {
     "name": "stdin",
     "output_type": "stream",
     "text": [
      "Your answer:  105\n"
     ]
    }
   ],
   "source": [
    "print(f\"What is the product of {num1} and {num2}?\")\n",
    "user_answer = int(input(\"Your answer: \"))"
   ]
  },
  {
   "cell_type": "code",
   "execution_count": 101,
   "id": "8e704e69-9d88-4b34-96a4-8b87db08ee4f",
   "metadata": {},
   "outputs": [
    {
     "name": "stdout",
     "output_type": "stream",
     "text": [
      "Correct Answer\n"
     ]
    }
   ],
   "source": [
    "if user_answer == product_of_numbers:\n",
    "    print(\"Correct Answer\")\n",
    "else:\n",
    "    print(\"Incorrect Answer\")"
   ]
  },
  {
   "cell_type": "code",
   "execution_count": null,
   "id": "269d93f5-41dd-4327-ab9c-a9822a007ac7",
   "metadata": {},
   "outputs": [],
   "source": [
    "#Create a Python script that prints the squares of all even or odd numbers within the range of 100 to 200.\n",
    "#Choose either even or odd numbers and document your choice in the code."
   ]
  },
  {
   "cell_type": "code",
   "execution_count": 113,
   "id": "ee31337b-1629-4245-8a32-f3ebd345a56d",
   "metadata": {},
   "outputs": [
    {
     "name": "stdout",
     "output_type": "stream",
     "text": [
      "The square of 100 is 10000\n",
      "The square of 101 is 10201\n",
      "The square of 102 is 10404\n",
      "The square of 103 is 10609\n",
      "The square of 104 is 10816\n",
      "The square of 105 is 11025\n",
      "The square of 106 is 11236\n",
      "The square of 107 is 11449\n",
      "The square of 108 is 11664\n",
      "The square of 109 is 11881\n",
      "The square of 110 is 12100\n",
      "The square of 111 is 12321\n",
      "The square of 112 is 12544\n",
      "The square of 113 is 12769\n",
      "The square of 114 is 12996\n",
      "The square of 115 is 13225\n",
      "The square of 116 is 13456\n",
      "The square of 117 is 13689\n",
      "The square of 118 is 13924\n",
      "The square of 119 is 14161\n",
      "The square of 120 is 14400\n",
      "The square of 121 is 14641\n",
      "The square of 122 is 14884\n",
      "The square of 123 is 15129\n",
      "The square of 124 is 15376\n",
      "The square of 125 is 15625\n",
      "The square of 126 is 15876\n",
      "The square of 127 is 16129\n",
      "The square of 128 is 16384\n",
      "The square of 129 is 16641\n",
      "The square of 130 is 16900\n",
      "The square of 131 is 17161\n",
      "The square of 132 is 17424\n",
      "The square of 133 is 17689\n",
      "The square of 134 is 17956\n",
      "The square of 135 is 18225\n",
      "The square of 136 is 18496\n",
      "The square of 137 is 18769\n",
      "The square of 138 is 19044\n",
      "The square of 139 is 19321\n",
      "The square of 140 is 19600\n",
      "The square of 141 is 19881\n",
      "The square of 142 is 20164\n",
      "The square of 143 is 20449\n",
      "The square of 144 is 20736\n",
      "The square of 145 is 21025\n",
      "The square of 146 is 21316\n",
      "The square of 147 is 21609\n",
      "The square of 148 is 21904\n",
      "The square of 149 is 22201\n",
      "The square of 150 is 22500\n",
      "The square of 151 is 22801\n",
      "The square of 152 is 23104\n",
      "The square of 153 is 23409\n",
      "The square of 154 is 23716\n",
      "The square of 155 is 24025\n",
      "The square of 156 is 24336\n",
      "The square of 157 is 24649\n",
      "The square of 158 is 24964\n",
      "The square of 159 is 25281\n",
      "The square of 160 is 25600\n",
      "The square of 161 is 25921\n",
      "The square of 162 is 26244\n",
      "The square of 163 is 26569\n",
      "The square of 164 is 26896\n",
      "The square of 165 is 27225\n",
      "The square of 166 is 27556\n",
      "The square of 167 is 27889\n",
      "The square of 168 is 28224\n",
      "The square of 169 is 28561\n",
      "The square of 170 is 28900\n",
      "The square of 171 is 29241\n",
      "The square of 172 is 29584\n",
      "The square of 173 is 29929\n",
      "The square of 174 is 30276\n",
      "The square of 175 is 30625\n",
      "The square of 176 is 30976\n",
      "The square of 177 is 31329\n",
      "The square of 178 is 31684\n",
      "The square of 179 is 32041\n",
      "The square of 180 is 32400\n",
      "The square of 181 is 32761\n",
      "The square of 182 is 33124\n",
      "The square of 183 is 33489\n",
      "The square of 184 is 33856\n",
      "The square of 185 is 34225\n",
      "The square of 186 is 34596\n",
      "The square of 187 is 34969\n",
      "The square of 188 is 35344\n",
      "The square of 189 is 35721\n",
      "The square of 190 is 36100\n",
      "The square of 191 is 36481\n",
      "The square of 192 is 36864\n",
      "The square of 193 is 37249\n",
      "The square of 194 is 37636\n",
      "The square of 195 is 38025\n",
      "The square of 196 is 38416\n",
      "The square of 197 is 38809\n",
      "The square of 198 is 39204\n",
      "The square of 199 is 39601\n",
      "The square of 200 is 40000\n"
     ]
    }
   ],
   "source": [
    "for num in range(100, 201):  # 201 is excluded \n",
    "    if num % 1 == 0:  \n",
    "        print(f\"The square of {num} is {num**2}\") "
   ]
  },
  {
   "cell_type": "code",
   "execution_count": null,
   "id": "5fe3261f-4a45-42bc-9075-85f30c39eed0",
   "metadata": {},
   "outputs": [],
   "source": [
    "#write a program to count the number of words in a given text."
   ]
  },
  {
   "cell_type": "code",
   "execution_count": 12,
   "id": "3b051c1e-c62f-493a-96a9-4ab684611155",
   "metadata": {},
   "outputs": [
    {
     "name": "stdout",
     "output_type": "stream",
     "text": [
      "'This': 2\n",
      "'is': 1\n",
      "'a': 1\n",
      "'sample': 1\n",
      "'text': 2\n",
      "'will': 1\n",
      "'be': 1\n",
      "'used': 1\n",
      "'to': 1\n",
      "'demonstrate': 1\n",
      "'the': 1\n",
      "'word': 1\n",
      "'counter': 1\n"
     ]
    }
   ],
   "source": [
    "from collections import Counter\n",
    "import re\n",
    "\n",
    "def word_count(text):\n",
    "     \n",
    "   \n",
    "    words = re.findall(r'\\b\\w+\\b', text)\n",
    "    \n",
    "    \n",
    "    word_counts = Counter(words)\n",
    "    \n",
    "    \n",
    "    for word, count in word_counts.items():\n",
    "        print(f\"'{word}': {count}\")\n",
    "\n",
    "\n",
    "input_text = \"This is a sample text. This text will be used to demonstrate the word counter.\"\n",
    "\n",
    "\n",
    "word_count(input_text)"
   ]
  },
  {
   "cell_type": "code",
   "execution_count": null,
   "id": "44072e7b-3689-4bd1-a412-b93760cceda1",
   "metadata": {},
   "outputs": [],
   "source": []
  },
  {
   "cell_type": "code",
   "execution_count": 1,
   "id": "bde93dea-c5bf-47c3-ae7b-1e32af19c2c2",
   "metadata": {},
   "outputs": [
    {
     "name": "stdin",
     "output_type": "stream",
     "text": [
      "racecar  Expected output 'True'\n"
     ]
    },
    {
     "name": "stdout",
     "output_type": "stream",
     "text": [
      "\"Expected output 'True'\" is not a palindrome.\n"
     ]
    }
   ],
   "source": [
    "import re\n",
    "\n",
    "def is_palindrome(input_string):\n",
    "    # Convert the string to lowercase and remove non-alphanumeric characters using regular expressions\n",
    "    cleaned_string = re.sub(r'[^a-zA-Z0-9]', '', input_string).lower()\n",
    "    \n",
    "    \n",
    "    return cleaned_string == cleaned_string[::-1]\n",
    "\n",
    "\n",
    "input_text = input(\"racecar \")\n",
    "if is_palindrome(input_text):\n",
    "    print(f'\"{input_text}\" is a palindrome.')\n",
    "else:\n",
    "    print(f'\"{input_text}\" is not a palindrome.')"
   ]
  },
  {
   "cell_type": "code",
   "execution_count": null,
   "id": "d09995b2-becf-47e2-983f-03aacb0b0f54",
   "metadata": {},
   "outputs": [],
   "source": []
  }
 ],
 "metadata": {
  "kernelspec": {
   "display_name": "Python 3 (ipykernel)",
   "language": "python",
   "name": "python3"
  },
  "language_info": {
   "codemirror_mode": {
    "name": "ipython",
    "version": 3
   },
   "file_extension": ".py",
   "mimetype": "text/x-python",
   "name": "python",
   "nbconvert_exporter": "python",
   "pygments_lexer": "ipython3",
   "version": "3.12.7"
  }
 },
 "nbformat": 4,
 "nbformat_minor": 5
}
