{
 "cells": [
  {
   "cell_type": "code",
   "execution_count": 3,
   "id": "ab11177f-9a22-4a86-8a00-e3d69d424529",
   "metadata": {},
   "outputs": [
    {
     "name": "stdout",
     "output_type": "stream",
     "text": [
      "Test Statistic (t): -38.00\n",
      "Critical Value (t_critical): 1.71\n",
      "Decision: Fail to reject the null hypothesis: No strong evidence that costs are higher.\n"
     ]
    }
   ],
   "source": [
    "import scipy.stats as stats\n",
    "\n",
    "# Given data\n",
    "x_bar = 3050  # Sample mean\n",
    "mu = 4000  # Theoretical mean\n",
    "sigma = 5 * 25  # Standard deviation\n",
    "n = 25  # Sample size\n",
    "\n",
    "# Calculate test statistic\n",
    "t_statistic = (x_bar - mu) / (sigma / (n ** 0.5))\n",
    "\n",
    "# Degrees of freedom\n",
    "df = n - 1\n",
    "\n",
    "# Critical value for one-tailed test at alpha = 0.05\n",
    "alpha = 0.05\n",
    "critical_value = stats.t.ppf(1 - alpha, df)\n",
    "\n",
    "# Decision\n",
    "if t_statistic > critical_value:\n",
    "    decision = \"Reject the null hypothesis: There is evidence that weekly operating costs are higher.\"\n",
    "else:\n",
    "    decision = \"Fail to reject the null hypothesis: No strong evidence that costs are higher.\"\n",
    "\n",
    "# Print results\n",
    "print(f\"Test Statistic (t): {t_statistic:.2f}\")\n",
    "print(f\"Critical Value (t_critical): {critical_value:.2f}\")\n",
    "print(f\"Decision: {decision}\")"
   ]
  },
  {
   "cell_type": "code",
   "execution_count": null,
   "id": "3b430258-f31f-4b09-b872-008182201e4e",
   "metadata": {},
   "outputs": [],
   "source": []
  }
 ],
 "metadata": {
  "kernelspec": {
   "display_name": "Python 3 (ipykernel)",
   "language": "python",
   "name": "python3"
  },
  "language_info": {
   "codemirror_mode": {
    "name": "ipython",
    "version": 3
   },
   "file_extension": ".py",
   "mimetype": "text/x-python",
   "name": "python",
   "nbconvert_exporter": "python",
   "pygments_lexer": "ipython3",
   "version": "3.12.7"
  }
 },
 "nbformat": 4,
 "nbformat_minor": 5
}
